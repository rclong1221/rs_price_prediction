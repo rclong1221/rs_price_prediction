{
 "cells": [
  {
   "cell_type": "markdown",
   "metadata": {},
   "source": [
    "# Model Prediction\n",
    "\n",
    "### Stacked Model"
   ]
  },
  {
   "cell_type": "code",
   "execution_count": 8,
   "metadata": {},
   "outputs": [],
   "source": [
    "import pandas as pd\n",
    "import numpy as np\n",
    "import matplotlib.pyplot as plt\n",
    "import seaborn as sns\n",
    "from sklearn.linear_model import ElasticNet\n",
    "from sklearn.preprocessing import StandardScaler, MinMaxScaler\n",
    "from sklearn.model_selection import train_test_split, cross_val_score\n",
    "import warnings\n",
    "import os\n",
    "import timeit\n",
    "import time\n",
    "import datetime\n",
    "\n",
    "%matplotlib inline\n",
    "warnings.filterwarnings('ignore')\n",
    "SEED=42\n",
    "CV_FOLDS=10\n",
    "\n",
    "kc_data = pd.read_csv('./data/ci_i5_ap.csv')"
   ]
  },
  {
   "cell_type": "code",
   "execution_count": 9,
   "metadata": {},
   "outputs": [],
   "source": [
    "kc_data = kc_data.drop(['id', 'date'], axis=1)\n",
    "kc_data.head()\n",
    "kc_train, kc_test, train_Y, test_Y = train_test_split(\n",
    "    kc_data, kc_data['price'], \n",
    "    test_size=0, \n",
    "    random_state=SEED\n",
    ")\n",
    "kc_train = kc_train.drop('price', axis=1)\n",
    "kc_test = kc_test.drop('price', axis=1)\n",
    "scaler = StandardScaler()\n",
    "kc_train = scaler.fit_transform(kc_train)"
   ]
  },
  {
   "cell_type": "code",
   "execution_count": 10,
   "metadata": {},
   "outputs": [],
   "source": [
    "from mlxtend.regressor import StackingRegressor\n",
    "import xgboost as xgb\n",
    "from sklearn.tree import DecisionTreeRegressor\n",
    "from sklearn import svm"
   ]
  },
  {
   "cell_type": "code",
   "execution_count": 11,
   "metadata": {},
   "outputs": [],
   "source": [
    "gbm = xgb.XGBRegressor(\n",
    "    min_child_weight=9, \n",
    "    max_depth=1, \n",
    "    objective='reg:linear',\n",
    "    learning_rate=0.01, \n",
    "    seed=SEED, \n",
    "    n_estimators=2750, \n",
    "    verbose=True\n",
    ")\n",
    "\n",
    "svr = svm.SVR(degree=1, C=0.03)\n",
    "\n",
    "dtr = DecisionTreeRegressor(\n",
    "    max_depth=12, \n",
    "    min_samples_leaf=11,\n",
    "    min_samples_split=2,\n",
    "    random_state=SEED\n",
    ")"
   ]
  },
  {
   "cell_type": "markdown",
   "metadata": {},
   "source": [
    "### Stacking Combinations"
   ]
  },
  {
   "cell_type": "markdown",
   "metadata": {},
   "source": [
    "#### Decision Tree + SVM + GBM -> ElasticNet"
   ]
  },
  {
   "cell_type": "code",
   "execution_count": 14,
   "metadata": {},
   "outputs": [
    {
     "name": "stdout",
     "output_type": "stream",
     "text": [
      "-46829.583321265876\n"
     ]
    }
   ],
   "source": [
    "meta_reg_elastic = ElasticNet(\n",
    "    random_state=SEED\n",
    ")\n",
    "stacked_reg = StackingRegressor(regressors=[dtr, svr, gbm], meta_regressor = meta_reg_elastic)\n",
    "cv = cross_val_score(stacked_reg, kc_train, train_Y, cv=10, scoring='neg_median_absolute_error')\n",
    "print(cv.mean())"
   ]
  },
  {
   "cell_type": "markdown",
   "metadata": {},
   "source": [
    "#### Decision Tree + GBM -> ElasticNet"
   ]
  },
  {
   "cell_type": "code",
   "execution_count": 15,
   "metadata": {},
   "outputs": [
    {
     "name": "stdout",
     "output_type": "stream",
     "text": [
      "-47129.0776816442\n"
     ]
    }
   ],
   "source": [
    "meta_reg_elastic = ElasticNet(\n",
    "    random_state=SEED\n",
    ")\n",
    "stacked_reg = StackingRegressor(regressors=[dtr, gbm], meta_regressor = meta_reg_elastic)\n",
    "cv = cross_val_score(stacked_reg, kc_train, train_Y, cv=10, scoring='neg_median_absolute_error')\n",
    "print(cv.mean())"
   ]
  },
  {
   "cell_type": "markdown",
   "metadata": {},
   "source": [
    "#### SVM + GBM -> ElasticNet"
   ]
  },
  {
   "cell_type": "code",
   "execution_count": 17,
   "metadata": {},
   "outputs": [
    {
     "name": "stdout",
     "output_type": "stream",
     "text": [
      "-59525.68511438966\n"
     ]
    }
   ],
   "source": [
    "meta_reg_elastic = ElasticNet(\n",
    "    random_state=SEED\n",
    ")\n",
    "stacked_reg = StackingRegressor(regressors=[svr, gbm], meta_regressor = meta_reg_elastic)\n",
    "cv = cross_val_score(stacked_reg, kc_train, train_Y, cv=10, scoring='neg_median_absolute_error')\n",
    "print(cv.mean())"
   ]
  },
  {
   "cell_type": "markdown",
   "metadata": {},
   "source": [
    "#### Decision Tree + SVM -> ElasticNet"
   ]
  },
  {
   "cell_type": "code",
   "execution_count": 18,
   "metadata": {},
   "outputs": [
    {
     "name": "stdout",
     "output_type": "stream",
     "text": [
      "-48651.87129091397\n"
     ]
    }
   ],
   "source": [
    "meta_reg_elastic = ElasticNet(\n",
    "    random_state=SEED\n",
    ")\n",
    "stacked_reg = StackingRegressor(regressors=[dtr, svr], meta_regressor = meta_reg_elastic)\n",
    "cv = cross_val_score(stacked_reg, kc_train, train_Y, cv=10, scoring='neg_median_absolute_error')\n",
    "print(cv.mean())"
   ]
  },
  {
   "cell_type": "code",
   "execution_count": null,
   "metadata": {},
   "outputs": [],
   "source": []
  }
 ],
 "metadata": {
  "kernelspec": {
   "display_name": "Python 3",
   "language": "python",
   "name": "python3"
  },
  "language_info": {
   "codemirror_mode": {
    "name": "ipython",
    "version": 3
   },
   "file_extension": ".py",
   "mimetype": "text/x-python",
   "name": "python",
   "nbconvert_exporter": "python",
   "pygments_lexer": "ipython3",
   "version": "3.7.0"
  }
 },
 "nbformat": 4,
 "nbformat_minor": 2
}
